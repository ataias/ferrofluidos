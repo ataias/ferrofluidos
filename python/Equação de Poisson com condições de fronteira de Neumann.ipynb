{
 "metadata": {
  "name": "Equa\u00e7\u00e3o de Poisson com condi\u00e7\u00f5es de fronteira de Neumann"
 },
 "nbformat": 3,
 "nbformat_minor": 0,
 "worksheets": [
  {
   "cells": [
    {
     "cell_type": "heading",
     "level": 1,
     "metadata": {},
     "source": [
      "C\u00f3digo para Resolver Poisson com condi\u00e7\u00f5es de Neumann"
     ]
    },
    {
     "cell_type": "markdown",
     "metadata": {},
     "source": [
      "A id\u00e9ia \u00e9 simples, resolver a equa\u00e7\u00e3o de Poisson, $\\nabla^2u=f(x,y)$ com condi\u00e7\u00f5es de Neumann, $\\frac{\\partial u}{\\partial n}=g(x)$ ou $g(y)$."
     ]
    },
    {
     "cell_type": "code",
     "collapsed": false,
     "input": [
      "import sys\n",
      "sys.path.append(\"/home/ataias/git/ff/build/src/\") #localiza\u00e7\u00e3o das bibliotecas\n",
      "from libpoisson import Poisson #biblioteca com os c\u00f3digos para resolver a equa\u00e7\u00e3o de Poisson\n",
      "import scipy\n",
      "import pylab\n",
      "import numpy as np\n",
      "from mpl_toolkits.mplot3d import Axes3D #Para plotar gr\u00e1ficos 3D\n",
      "from numpy import linalg as LA #linear algebra, norm function"
     ],
     "language": "python",
     "metadata": {},
     "outputs": [],
     "prompt_number": 14
    },
    {
     "cell_type": "heading",
     "level": 2,
     "metadata": {},
     "source": [
      "Exemplo 1"
     ]
    },
    {
     "cell_type": "markdown",
     "metadata": {},
     "source": [
      "Resolveremos o problema $\\nabla^2 u=1$ com condi\u00e7\u00f5es de contorno nulas."
     ]
    },
    {
     "cell_type": "markdown",
     "metadata": {},
     "source": [
      "O m\u00e9todo Poisson.conditions tem 5 argumentos. Vamos prepar\u00e1-los e resolver o problema."
     ]
    },
    {
     "cell_type": "code",
     "collapsed": false,
     "input": [
      "cMesh = Poisson(); #Cria um objeto do tipo Poisson\n",
      "SIZE = 5;"
     ],
     "language": "python",
     "metadata": {},
     "outputs": [],
     "prompt_number": 15
    },
    {
     "cell_type": "heading",
     "level": 4,
     "metadata": {},
     "source": [
      "Condi\u00e7\u00f5es de Contorno"
     ]
    },
    {
     "cell_type": "code",
     "collapsed": false,
     "input": [
      "#dBoundaryConditions = ndarray(shape=(SIZE,SIZE), dtype=np.float64);\n",
      "dBoundaryConditions = np.array([[0 for j in range(0,SIZE)] for i in range(0,SIZE)],dtype=np.float64)\n",
      "dBoundaryConditions[0,:]=[j*2.0/(SIZE-1) for j in range(0,SIZE)];\n",
      "#import math\n",
      "#dBoundaryConditions[0,:]=[2*(math.sin(math.pi*j/(SIZE-1)))**2 for j in range(0,SIZE)];"
     ],
     "language": "python",
     "metadata": {},
     "outputs": [],
     "prompt_number": 16
    },
    {
     "cell_type": "code",
     "collapsed": false,
     "input": [
      "#print dBoundaryConditions"
     ],
     "language": "python",
     "metadata": {},
     "outputs": [],
     "prompt_number": 17
    },
    {
     "cell_type": "markdown",
     "metadata": {},
     "source": [
      "Note que somente os lados s\u00e3o importantes, sem contar as quinas."
     ]
    },
    {
     "cell_type": "heading",
     "level": 4,
     "metadata": {},
     "source": [
      "Fun\u00e7\u00e3o de For\u00e7amento"
     ]
    },
    {
     "cell_type": "code",
     "collapsed": false,
     "input": [
      "dNonHomogeneity = np.array([[1 for j in range(0,SIZE)] for i in range(0,SIZE)],dtype=np.float64)"
     ],
     "language": "python",
     "metadata": {},
     "outputs": [],
     "prompt_number": 18
    },
    {
     "cell_type": "code",
     "collapsed": false,
     "input": [
      "#print dNonHomogeneity"
     ],
     "language": "python",
     "metadata": {},
     "outputs": [],
     "prompt_number": 19
    },
    {
     "cell_type": "heading",
     "level": 4,
     "metadata": {},
     "source": [
      "Defini\u00e7\u00f5es adicionais"
     ]
    },
    {
     "cell_type": "markdown",
     "metadata": {},
     "source": [
      "\u00c9 necess\u00e1rio definir alguns par\u00e2metros para se passar as condi\u00e7\u00f5es para o problema."
     ]
    },
    {
     "cell_type": "code",
     "collapsed": false,
     "input": [
      "bDirichletOrNeumann = 1 #Indica que o m\u00e9todo utilizado ser\u00e1 de Neumann nas quatro fronteiras\n",
      "bSparseOrNot = 0 #Indica que o m\u00e9todo n\u00e3o ser\u00e1 esparso (n\u00e3o tem m\u00e9todo esparso para Neumann ainda)\n",
      "nMatrixOrder = SIZE #Indica ordem da matriz"
     ],
     "language": "python",
     "metadata": {},
     "outputs": [],
     "prompt_number": 20
    },
    {
     "cell_type": "code",
     "collapsed": false,
     "input": [
      "cMesh.conditions(dBoundaryConditions,\n",
      "                 dNonHomogeneity,\n",
      "                 bDirichletOrNeumann,\n",
      "                 bSparseOrNot,\n",
      "                 nMatrixOrder);"
     ],
     "language": "python",
     "metadata": {},
     "outputs": [],
     "prompt_number": 21
    },
    {
     "cell_type": "heading",
     "level": 4,
     "metadata": {},
     "source": [
      "Resolver Equa\u00e7\u00e3o e salvar resultado"
     ]
    },
    {
     "cell_type": "code",
     "collapsed": false,
     "input": [
      "dSolution = np.ndarray(shape=(SIZE,SIZE), dtype=np.float64);\n",
      "cMesh.poissonSolver();\n",
      "cMesh.saveSolution(dSolution);"
     ],
     "language": "python",
     "metadata": {},
     "outputs": [],
     "prompt_number": 22
    },
    {
     "cell_type": "heading",
     "level": 4,
     "metadata": {},
     "source": [
      "Resultado"
     ]
    },
    {
     "cell_type": "code",
     "collapsed": false,
     "input": [
      "#print dSolution\n",
      "dSolution = dSolution - dSolution.min()\n",
      "dSolution.min()\n",
      "print \"%.6f\" % dSolution[(SIZE-1)/2,(SIZE-1)/2]\n",
      "a = 1.0/(SIZE-1)\n",
      "print \"%.5f\" % a"
     ],
     "language": "python",
     "metadata": {},
     "outputs": [
      {
       "output_type": "stream",
       "stream": "stdout",
       "text": [
        "0.137500\n",
        "0.25000\n"
       ]
      }
     ],
     "prompt_number": 23
    },
    {
     "cell_type": "markdown",
     "metadata": {},
     "source": [
      "Como saber se o resultado est\u00e1 certo? Basta aplicar a equa\u00e7\u00e3o em todos os pontos internos e verificar o resultado."
     ]
    },
    {
     "cell_type": "code",
     "collapsed": false,
     "input": [
      "dError = np.array([[0 for j in range(0,SIZE)] for i in range(0,SIZE)],dtype=np.float64)\n",
      "dDeltaX = 1.0/(SIZE-1)\n",
      "dDeltaX2 = 1.0/(SIZE-1)**2\n",
      "for i in range(0,SIZE):\n",
      "    for j in range(0,SIZE):\n",
      "        #QUINAS\n",
      "        if i==0 and j==0: \n",
      "            continue;\n",
      "        if i==0 and j==SIZE-1: \n",
      "            continue;\n",
      "        if i==SIZE-1 and j==0:\n",
      "            continue;\n",
      "        if i==SIZE-1 and j==SIZE-1:\n",
      "            continue;\n",
      "        \n",
      "        if i==0:        #NORTH POINT\n",
      "            dError[i,j]=  (-1.5*dSolution[i,j]+2*dSolution[i+1,j]-0.5*dSolution[i+2,j])/dDeltaX+dBoundaryConditions[i,j]\n",
      "        elif i==SIZE-1: #SOUTH POINT\n",
      "            dError[i,j]=  ( 1.5*dSolution[i,j]-2*dSolution[i-1,j]+0.5*dSolution[i-2,j])/dDeltaX+dBoundaryConditions[i,j]\n",
      "        elif j==0:      #WEST POINT\n",
      "            dError[i,j]=  (-1.5*dSolution[i,j]+2*dSolution[i,j+1]-0.5*dSolution[i,j+2])/dDeltaX+dBoundaryConditions[i,j]\n",
      "        elif j==SIZE-1: #EAST POINT\n",
      "            dError[i,j]=  ( 1.5*dSolution[i,j]-2*dSolution[i,j-1]+0.5*dSolution[i,j-2])/dDeltaX+dBoundaryConditions[i,j]\n",
      "        else:\n",
      "            dError[i,j] = (dSolution[i-1,j]+dSolution[i+1,j]+\\\n",
      "            dSolution[i,j-1]+dSolution[i,j+1]-4*dSolution[i,j])/dDeltaX2 - dNonHomogeneity[i,j]"
     ],
     "language": "python",
     "metadata": {},
     "outputs": [],
     "prompt_number": 24
    },
    {
     "cell_type": "code",
     "collapsed": false,
     "input": [
      "LA.norm(dError)"
     ],
     "language": "python",
     "metadata": {},
     "outputs": [
      {
       "output_type": "pyout",
       "prompt_number": 25,
       "text": [
        "8.9755716756906411e-14"
       ]
      }
     ],
     "prompt_number": 25
    },
    {
     "cell_type": "code",
     "collapsed": false,
     "input": [
      "pylab.figure(1)\n",
      "ax = pylab.subplot(121, projection='3d')\n",
      "\n",
      "x = pylab.linspace(0,1,SIZE-2)\n",
      "xx, yy = pylab.meshgrid(x,x)\n",
      "zz = dSolution[1:SIZE-1,1:SIZE-1]\n",
      "\n",
      "ax.plot_surface(xx, yy, zz,\n",
      "                rstride=1,\n",
      "                cstride=1,\n",
      "                cmap=pylab.cm.binary,\n",
      "                linewidth=0.2)\n",
      "\n",
      "ax.set_xlabel(r'$x$')\n",
      "ax.set_ylabel('$y$')\n",
      "ax.set_zlabel('$z$')\n",
      "pylab.title(r'$\\nabla^2u = 1$ Neumann conditions')\n",
      "pylab.savefig('plot3d.pdf')\n",
      "\n",
      "ax1 = pylab.subplot(122)\n",
      "\n",
      "x = pylab.linspace(0,1,SIZE-2)\n",
      "xx1, yy1 = pylab.meshgrid(x,x)\n",
      "#zz = yy**2/2\n",
      "#zz = dSolution[1:SIZE-1,1:SIZE-1]\n",
      "cs = ax1.contour(xx1,yy1,zz,30)\n",
      "ax1.grid(True)\n",
      "ax1.axis('scaled')\n",
      "ax1.set_xlabel(r'$x$')\n",
      "ax1.set_ylabel('$y$')\n",
      "pylab.clabel(cs,inline=1,fontsize=10)\n",
      "pylab.title(r'Level curves of the function')\n",
      "pylab.savefig('plot3d.png')\n",
      "\n",
      "pylab.show()"
     ],
     "language": "python",
     "metadata": {},
     "outputs": [],
     "prompt_number": 26
    },
    {
     "cell_type": "code",
     "collapsed": false,
     "input": [],
     "language": "python",
     "metadata": {},
     "outputs": [],
     "prompt_number": 26
    }
   ],
   "metadata": {}
  }
 ]
}