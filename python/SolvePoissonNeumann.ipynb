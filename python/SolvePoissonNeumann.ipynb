{
 "metadata": {
  "name": "SolvePoissonNeumann"
 },
 "nbformat": 3,
 "nbformat_minor": 0,
 "worksheets": [
  {
   "cells": [
    {
     "cell_type": "heading",
     "level": 1,
     "metadata": {},
     "source": [
      "C\u00f3digo para Resolver Poisson com condi\u00e7\u00f5es de Neumann"
     ]
    },
    {
     "cell_type": "markdown",
     "metadata": {},
     "source": [
      "A id\u00e9ia \u00e9 simples, resolver a equa\u00e7\u00e3o de Poisson, $\\nabla^2u=f(x,y)$ com condi\u00e7\u00f5es de Neumann, $\\frac{\\partial u}{\\partial n}=g(x)$ ou $g(y)$."
     ]
    },
    {
     "cell_type": "code",
     "collapsed": false,
     "input": [
      "import sys\n",
      "sys.path.append(\"/home/ataias/workspace/ff/build/src/\") #localiza\u00e7\u00e3o das bibliotecas\n",
      "from libpoisson import Poisson #biblioteca com os c\u00f3digos para resolver a equa\u00e7\u00e3o de Poisson\n",
      "import scipy\n",
      "import pylab\n",
      "import numpy as np"
     ],
     "language": "python",
     "metadata": {},
     "outputs": [],
     "prompt_number": 43
    },
    {
     "cell_type": "code",
     "collapsed": false,
     "input": [
      "SIZE = 5;\n",
      "forcingFunction = ndarray(shape=(SIZE,SIZE), dtype=np.float64);"
     ],
     "language": "python",
     "metadata": {},
     "outputs": [],
     "prompt_number": 48
    },
    {
     "cell_type": "code",
     "collapsed": false,
     "input": [
      "print forcingFunction"
     ],
     "language": "python",
     "metadata": {},
     "outputs": [
      {
       "output_type": "stream",
       "stream": "stdout",
       "text": [
        "[[  6.93905111e-310   2.58591508e-316   6.93905179e-310   2.44457753e-316\n",
        "    7.63531025e-317]\n",
        " [  2.44445658e-316   6.93905179e-310   2.44232656e-316   7.63531025e-317\n",
        "    2.44449215e-316]\n",
        " [  6.93905179e-310   2.18005715e-316   7.63531025e-317   2.44454433e-316\n",
        "    6.93905179e-310]\n",
        " [  2.44224830e-316   6.93905178e-310   2.44450164e-316   6.93905179e-310\n",
        "    2.44456567e-316]\n",
        " [  6.93905178e-310   2.44456567e-316   6.93905179e-310   2.44228743e-316\n",
        "    1.02765654e-321]]\n"
       ]
      }
     ],
     "prompt_number": 49
    },
    {
     "cell_type": "code",
     "collapsed": false,
     "input": [],
     "language": "python",
     "metadata": {},
     "outputs": [],
     "prompt_number": 45
    }
   ],
   "metadata": {}
  }
 ]
}