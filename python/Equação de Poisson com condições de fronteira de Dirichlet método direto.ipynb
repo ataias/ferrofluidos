{
 "metadata": {
  "name": "Equa\u00e7\u00e3o de Poisson com condi\u00e7\u00f5es de fronteira de Dirichlet m\u00e9todo direto"
 },
 "nbformat": 3,
 "nbformat_minor": 0,
 "worksheets": [
  {
   "cells": [
    {
     "cell_type": "heading",
     "level": 1,
     "metadata": {},
     "source": [
      "Equa\u00e7\u00e3o de Poisson com condi\u00e7\u00f5es de fronteira de Dirichlet m\u00e9todo direto"
     ]
    },
    {
     "cell_type": "code",
     "collapsed": false,
     "input": [
      "import sys\n",
      "sys.path.append(\"/home/ataias/git/ff/build/src/\") #localiza\u00e7\u00e3o das bibliotecas\n",
      "sys.path.append(\"/home/ataias/git/ff/python/functions/\") #localiza\u00e7\u00e3o das bibliotecas\n",
      "from Poisson_functions import *\n",
      "from libpoisson import Poisson #biblioteca com os c\u00f3digos para resolver a equa\u00e7\u00e3o de Poisson\n",
      "import scipy\n",
      "import pylab\n",
      "import numpy as np\n",
      "from mpl_toolkits.mplot3d import Axes3D #Para plotar gr\u00e1ficos 3D\n",
      "import matplotlib.pyplot as plt\n",
      "from numpy import linalg as LA #linear algebra, norm function\n",
      "import time\n",
      "import math"
     ],
     "language": "python",
     "metadata": {},
     "outputs": [],
     "prompt_number": 2
    },
    {
     "cell_type": "code",
     "collapsed": false,
     "input": [
      "#Solve and Plot\n",
      "SIZE = 25\n",
      "dSolution = np.ndarray(shape=(SIZE,SIZE), dtype=np.float64);\n",
      "dNonHomogeneity = np.array([[1 for j in range(0,SIZE)] for i in range(0,SIZE)],dtype=np.float64)\n",
      "cMeshPoisson = Poisson()\n",
      "dBoundaryConditions = np.array([[0 for j in range(0,SIZE)] for i in range(0,SIZE)],dtype=np.float64)\n",
      "dBoundaryConditions[0,:]=[0 for j in range(0,SIZE)];\n",
      "dBoundaryConditions[:,0]=[0 for j in range(0,SIZE)];\n",
      "dBoundaryConditions[SIZE-1,:]=[0 for j in range(0,SIZE)];\n",
      "dBoundaryConditions[:,SIZE-1]=[0 for j in range(0,SIZE)];\n",
      "solvePoisson(SIZE, dSolution, cMeshPoisson, dNonHomogeneity, dBoundaryConditions)\n",
      "plot_dSolution(SIZE, dSolution)"
     ],
     "language": "python",
     "metadata": {},
     "outputs": [],
     "prompt_number": 4
    },
    {
     "cell_type": "code",
     "collapsed": false,
     "input": [
      "#center_point_value = dSolution[250,250]\n",
      "center_point_value = 31.249999999886253"
     ],
     "language": "python",
     "metadata": {},
     "outputs": [],
     "prompt_number": 14
    },
    {
     "cell_type": "code",
     "collapsed": false,
     "input": [
      "#Obter tempos utilizados para v\u00e1rias solu\u00e7\u00f5es\n",
      "listTimeElapsed = []\n",
      "listError = []\n",
      "x = []\n",
      "nOrderStart = 5\n",
      "nOrderEnd = 200\n",
      "\n",
      "for i in range(nOrderStart,nOrderEnd+1):\n",
      "    if (i%2==0):\n",
      "        continue;\n",
      "    cPoisson = Poisson()\n",
      "    dSolution = np.ndarray(shape=(i,i), dtype=np.float64);\n",
      "    dNonHomogeneity = np.array([[0 for a in range(0,i)] for b in range(0,i)],dtype=np.float64);\n",
      "    start = time.time()\n",
      "    solvePoisson(i, dSolution, cPoisson, dNonHomogeneity)\n",
      "    end = time.time()\n",
      "    elapsed = end - start\n",
      "    listTimeElapsed.append(elapsed)\n",
      "    listError.append(dSolution[i/2,i/2]-center_point_value)\n",
      "    x.append(i)\n",
      "y = np.array(listTimeElapsed)\n",
      "y2 = np.array(listError)"
     ],
     "language": "python",
     "metadata": {},
     "outputs": [],
     "prompt_number": 30
    },
    {
     "cell_type": "code",
     "collapsed": false,
     "input": [
      "a4,a3,a2,a1 = polyfit(x, y, 3)"
     ],
     "language": "python",
     "metadata": {},
     "outputs": [],
     "prompt_number": 30
    },
    {
     "cell_type": "code",
     "collapsed": false,
     "input": [
      "#Plotando os resultados\n",
      "plt.plot(x, y, 'yo', x, a4*x**3+a3*x**2+a2*x+a1, 'k')\n",
      "plt.title('Metodo Direto - Aproximacao cubica')\n",
      "plt.suptitle('Solucao de Poisson com condicoes de Dirichlet')\n",
      "plt.xlabel('Ordem da malha')\n",
      "plt.ylabel('tempo (s)')"
     ],
     "language": "python",
     "metadata": {},
     "outputs": [
      {
       "output_type": "pyout",
       "prompt_number": 34,
       "text": [
        "<matplotlib.text.Text at 0x5d985d0>"
       ]
      }
     ],
     "prompt_number": 34
    },
    {
     "cell_type": "code",
     "collapsed": false,
     "input": [
      "x2 = np.array([x[a]**2 for a in range(0,size(y2))],dtype=np.float64);\n",
      "#Plotando os resultados\n",
      "a2,a1 = polyfit(x2, y2, 1)\n",
      "plt.plot(x2, y2, 'yo', x2, a2*x2+a1, 'k')\n",
      "plt.suptitle('Diferenca entre o centro numa malha 501x501 e outras malhas')\n",
      "plt.title('Erro')\n",
      "plt.xlabel('Ordem da malha ao quadrado')\n",
      "plt.ylabel('erro')"
     ],
     "language": "python",
     "metadata": {},
     "outputs": [
      {
       "output_type": "pyout",
       "prompt_number": 52,
       "text": [
        "<matplotlib.text.Text at 0x3c6a0550>"
       ]
      }
     ],
     "prompt_number": 52
    },
    {
     "cell_type": "code",
     "collapsed": false,
     "input": [
      "a1"
     ],
     "language": "python",
     "metadata": {},
     "outputs": [
      {
       "output_type": "pyout",
       "prompt_number": 51,
       "text": [
        "1.1410849853610168e-10"
       ]
      }
     ],
     "prompt_number": 51
    },
    {
     "cell_type": "code",
     "collapsed": false,
     "input": [
      "size(y)"
     ],
     "language": "python",
     "metadata": {},
     "outputs": [
      {
       "output_type": "pyout",
       "prompt_number": 38,
       "text": [
        "98"
       ]
      }
     ],
     "prompt_number": 38
    },
    {
     "cell_type": "code",
     "collapsed": false,
     "input": [
      "size(x)"
     ],
     "language": "python",
     "metadata": {},
     "outputs": [
      {
       "output_type": "pyout",
       "prompt_number": 11,
       "text": [
        "96"
       ]
      }
     ],
     "prompt_number": 11
    },
    {
     "cell_type": "code",
     "collapsed": false,
     "input": [
      "plt.plot(x, y)"
     ],
     "language": "python",
     "metadata": {},
     "outputs": [
      {
       "output_type": "pyout",
       "prompt_number": 12,
       "text": [
        "[<matplotlib.lines.Line2D at 0x3fc4050>]"
       ]
      }
     ],
     "prompt_number": 12
    },
    {
     "cell_type": "code",
     "collapsed": false,
     "input": [],
     "language": "python",
     "metadata": {},
     "outputs": []
    }
   ],
   "metadata": {}
  }
 ]
}