{
 "metadata": {
  "name": "Equa\u00e7\u00e3o de Poisson com condi\u00e7\u00f5es de fronteira de Dirichlet m\u00e9todo direto"
 },
 "nbformat": 3,
 "nbformat_minor": 0,
 "worksheets": [
  {
   "cells": [
    {
     "cell_type": "heading",
     "level": 1,
     "metadata": {},
     "source": [
      "Equa\u00e7\u00e3o de Poisson com condi\u00e7\u00f5es de fronteira de Dirichlet m\u00e9todo direto"
     ]
    },
    {
     "cell_type": "code",
     "collapsed": false,
     "input": [
      "import sys\n",
      "sys.path.append(\"/home/ataias/git/ff/build/src/\") #localiza\u00e7\u00e3o das bibliotecas\n",
      "sys.path.append(\"/home/ataias/git/ff/python/functions/\") #localiza\u00e7\u00e3o das bibliotecas\n",
      "from Poisson_functions import *\n",
      "from libpoisson import Poisson #biblioteca com os c\u00f3digos para resolver a equa\u00e7\u00e3o de Poisson\n",
      "import scipy\n",
      "import pylab\n",
      "import numpy as np\n",
      "from mpl_toolkits.mplot3d import Axes3D #Para plotar gr\u00e1ficos 3D\n",
      "import matplotlib.pyplot as plt\n",
      "from numpy import linalg as LA #linear algebra, norm function\n",
      "import time"
     ],
     "language": "python",
     "metadata": {},
     "outputs": [],
     "prompt_number": 2
    },
    {
     "cell_type": "code",
     "collapsed": false,
     "input": [
      "#Solve and Plot\n",
      "SIZE = 51\n",
      "dSolution = np.ndarray(shape=(SIZE,SIZE), dtype=np.float64);\n",
      "cMeshPoisson = Poisson()\n",
      "solvePoisson(SIZE, dSolution, cMeshPoisson)\n",
      "plot_dSolution(SIZE, dSolution)"
     ],
     "language": "python",
     "metadata": {},
     "outputs": [],
     "prompt_number": 2
    },
    {
     "cell_type": "code",
     "collapsed": false,
     "input": [
      "listTimeElapsed = []\n",
      "nOrderStart = 5\n",
      "nOrderEnd = 200\n",
      "\n",
      "for i in range(nOrderStart,nOrderEnd+1):\n",
      "    cPoisson = Poisson()\n",
      "    dSolution = np.ndarray(shape=(i,i), dtype=np.float64);\n",
      "    start = time.time()\n",
      "    solvePoisson(i, dSolution, cPoisson)\n",
      "    end = time.time()\n",
      "    elapsed = end - start\n",
      "    listTimeElapsed.append(elapsed)\n",
      "x = np.linspace(nOrderStart, nOrderEnd, nOrderEnd-nOrderStart+1)\n",
      "y = np.array(listTimeElapsed)"
     ],
     "language": "python",
     "metadata": {},
     "outputs": [],
     "prompt_number": 18
    },
    {
     "cell_type": "code",
     "collapsed": false,
     "input": [
      "a4,a3,a2,a1 = polyfit(x, y, 3)"
     ],
     "language": "python",
     "metadata": {},
     "outputs": [],
     "prompt_number": 30
    },
    {
     "cell_type": "code",
     "collapsed": false,
     "input": [
      "#Plotando os resultados\n",
      "plt.plot(x, y, 'yo', x, a4*x**3+a3*x**2+a2*x+a1, 'k')\n",
      "plt.title('Metodo Direto - Aproximacao cubica')\n",
      "plt.suptitle('Solucao de Poisson com condicoes de Dirichlet')\n",
      "plt.xlabel('Ordem da malha')\n",
      "plt.ylabel('tempo (s)')"
     ],
     "language": "python",
     "metadata": {},
     "outputs": [
      {
       "output_type": "pyout",
       "prompt_number": 34,
       "text": [
        "<matplotlib.text.Text at 0x5d985d0>"
       ]
      }
     ],
     "prompt_number": 34
    },
    {
     "cell_type": "code",
     "collapsed": false,
     "input": [
      "size(y)"
     ],
     "language": "python",
     "metadata": {},
     "outputs": [
      {
       "output_type": "pyout",
       "prompt_number": 21,
       "text": [
        "196"
       ]
      }
     ],
     "prompt_number": 21
    },
    {
     "cell_type": "code",
     "collapsed": false,
     "input": [
      "size(x)"
     ],
     "language": "python",
     "metadata": {},
     "outputs": [
      {
       "output_type": "pyout",
       "prompt_number": 11,
       "text": [
        "96"
       ]
      }
     ],
     "prompt_number": 11
    },
    {
     "cell_type": "code",
     "collapsed": false,
     "input": [
      "plt.plot(x, y)"
     ],
     "language": "python",
     "metadata": {},
     "outputs": [
      {
       "output_type": "pyout",
       "prompt_number": 12,
       "text": [
        "[<matplotlib.lines.Line2D at 0x3fc4050>]"
       ]
      }
     ],
     "prompt_number": 12
    },
    {
     "cell_type": "code",
     "collapsed": false,
     "input": [],
     "language": "python",
     "metadata": {},
     "outputs": []
    }
   ],
   "metadata": {}
  }
 ]
}