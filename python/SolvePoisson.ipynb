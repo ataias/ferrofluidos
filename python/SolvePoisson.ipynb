{
 "metadata": {
  "name": "SolvePoisson"
 },
 "nbformat": 3,
 "nbformat_minor": 0,
 "worksheets": [
  {
   "cells": [
    {
     "cell_type": "heading",
     "level": 1,
     "metadata": {},
     "source": [
      "C\u00f3digo para Resolver Poisson com condi\u00e7\u00f5es de Neumann"
     ]
    },
    {
     "cell_type": "markdown",
     "metadata": {},
     "source": [
      "A id\u00e9ia \u00e9 simples, resolver a equa\u00e7\u00e3o de Poisson, $\\nabla^2u=f(x,y)$ com condi\u00e7\u00f5es de Neumann, $\\frac{\\partial u}{\\partial n}=g(x)$ ou $g(y)$."
     ]
    },
    {
     "cell_type": "code",
     "collapsed": false,
     "input": [
      "import sys\n",
      "sys.path.append(\"/home/ataias/workspace/ff/build/src/\") #localiza\u00e7\u00e3o das bibliotecas\n",
      "from libpoisson import Poisson #biblioteca com os c\u00f3digos para resolver a equa\u00e7\u00e3o de Poisson\n",
      "import scipy\n",
      "import pylab\n",
      "import numpy as np\n",
      "from mpl_toolkits.mplot3d import Axes3D #Para plotar gr\u00e1ficos 3D"
     ],
     "language": "python",
     "metadata": {},
     "outputs": [],
     "prompt_number": 1
    },
    {
     "cell_type": "heading",
     "level": 4,
     "metadata": {},
     "source": [
      "M\u00e9todo para condi\u00e7\u00f5es Iniciais"
     ]
    },
    {
     "cell_type": "code",
     "collapsed": false,
     "input": [
      "help(Poisson.conditions)"
     ],
     "language": "python",
     "metadata": {},
     "outputs": [
      {
       "output_type": "stream",
       "stream": "stdout",
       "text": [
        "Help on method conditions:\n",
        "\n",
        "conditions(...) unbound libpoisson.Poisson method\n",
        "    conditions( (Poisson)arg1, (object)dBoundaryConditions, (object)dNonHomogeneity, (bool)bDirichletOrNeumann, (bool)bSparseOrNot, (int)nMatrixOrder) -> int :\n",
        "        This function takes important values required to solve the Poisson problem on a square.\n",
        "    \n",
        "        C++ signature :\n",
        "            int conditions(Poisson {lvalue},_object*,_object*,bool,bool,int)\n",
        "\n"
       ]
      }
     ],
     "prompt_number": 2
    },
    {
     "cell_type": "heading",
     "level": 4,
     "metadata": {},
     "source": [
      "M\u00e9todo para Resolver a equa\u00e7\u00e3o"
     ]
    },
    {
     "cell_type": "code",
     "collapsed": false,
     "input": [
      "help(Poisson.poissonSolver)"
     ],
     "language": "python",
     "metadata": {},
     "outputs": [
      {
       "output_type": "stream",
       "stream": "stdout",
       "text": [
        "Help on method poissonSolver:\n",
        "\n",
        "poissonSolver(...) unbound libpoisson.Poisson method\n",
        "    poissonSolver( (Poisson)arg1) -> None :\n",
        "        Solves the Poisson problem on a square, with previous given conditions.\n",
        "    \n",
        "        C++ signature :\n",
        "            void poissonSolver(Poisson {lvalue})\n",
        "\n"
       ]
      }
     ],
     "prompt_number": 3
    },
    {
     "cell_type": "heading",
     "level": 4,
     "metadata": {},
     "source": [
      "M\u00e9todo para salvar resultado em objeto do python"
     ]
    },
    {
     "cell_type": "code",
     "collapsed": false,
     "input": [
      "help(Poisson.saveSolution)"
     ],
     "language": "python",
     "metadata": {},
     "outputs": [
      {
       "output_type": "stream",
       "stream": "stdout",
       "text": [
        "Help on method saveSolution:\n",
        "\n",
        "saveSolution(...) unbound libpoisson.Poisson method\n",
        "    saveSolution( (Poisson)arg1, (object)pyArraySolution) -> None :\n",
        "        Saves the solution of Poisson problem in pyArraySolution object.\n",
        "    \n",
        "        C++ signature :\n",
        "            void saveSolution(Poisson {lvalue},_object*)\n",
        "\n"
       ]
      }
     ],
     "prompt_number": 4
    },
    {
     "cell_type": "heading",
     "level": 2,
     "metadata": {},
     "source": [
      "Exemplo 1"
     ]
    },
    {
     "cell_type": "markdown",
     "metadata": {},
     "source": [
      "Resolveremos o problema $\\nabla^2 u=1$ com condi\u00e7\u00f5es de contorno nulas."
     ]
    },
    {
     "cell_type": "markdown",
     "metadata": {},
     "source": [
      "O m\u00e9todo Poisson.conditions tem 5 argumentos. Vamos prepar\u00e1-los e resolver o problema."
     ]
    },
    {
     "cell_type": "code",
     "collapsed": false,
     "input": [
      "cMesh = Poisson(); #Cria um objeto do tipo Poisson\n",
      "SIZE = 5;"
     ],
     "language": "python",
     "metadata": {},
     "outputs": [],
     "prompt_number": 5
    },
    {
     "cell_type": "heading",
     "level": 4,
     "metadata": {},
     "source": [
      "Condi\u00e7\u00f5es de Contorno"
     ]
    },
    {
     "cell_type": "code",
     "collapsed": false,
     "input": [
      "#dBoundaryConditions = ndarray(shape=(SIZE,SIZE), dtype=np.float64);\n",
      "dBoundaryConditions = np.array([[0 for j in range(0,SIZE)] for i in range(0,SIZE)],dtype=np.float64)"
     ],
     "language": "python",
     "metadata": {},
     "outputs": [],
     "prompt_number": 6
    },
    {
     "cell_type": "code",
     "collapsed": false,
     "input": [
      "print dBoundaryConditions"
     ],
     "language": "python",
     "metadata": {},
     "outputs": [
      {
       "output_type": "stream",
       "stream": "stdout",
       "text": [
        "[[ 0.  0.  0.  0.  0.]\n",
        " [ 0.  0.  0.  0.  0.]\n",
        " [ 0.  0.  0.  0.  0.]\n",
        " [ 0.  0.  0.  0.  0.]\n",
        " [ 0.  0.  0.  0.  0.]]\n"
       ]
      }
     ],
     "prompt_number": 7
    },
    {
     "cell_type": "markdown",
     "metadata": {},
     "source": [
      "Note que somente os lados s\u00e3o importantes, sem contar as quinas."
     ]
    },
    {
     "cell_type": "heading",
     "level": 4,
     "metadata": {},
     "source": [
      "Fun\u00e7\u00e3o de For\u00e7amento"
     ]
    },
    {
     "cell_type": "code",
     "collapsed": false,
     "input": [
      "dNonHomogeneity = np.array([[1 for j in range(0,SIZE)] for i in range(0,SIZE)],dtype=np.float64)"
     ],
     "language": "python",
     "metadata": {},
     "outputs": [],
     "prompt_number": 8
    },
    {
     "cell_type": "code",
     "collapsed": false,
     "input": [
      "print dNonHomogeneity"
     ],
     "language": "python",
     "metadata": {},
     "outputs": [
      {
       "output_type": "stream",
       "stream": "stdout",
       "text": [
        "[[ 1.  1.  1.  1.  1.]\n",
        " [ 1.  1.  1.  1.  1.]\n",
        " [ 1.  1.  1.  1.  1.]\n",
        " [ 1.  1.  1.  1.  1.]\n",
        " [ 1.  1.  1.  1.  1.]]\n"
       ]
      }
     ],
     "prompt_number": 9
    },
    {
     "cell_type": "heading",
     "level": 4,
     "metadata": {},
     "source": [
      "Defini\u00e7\u00f5es adicionais"
     ]
    },
    {
     "cell_type": "markdown",
     "metadata": {},
     "source": [
      "\u00c9 necess\u00e1rio definir alguns par\u00e2metros para se passar as condi\u00e7\u00f5es para o problema."
     ]
    },
    {
     "cell_type": "code",
     "collapsed": false,
     "input": [
      "bDirichletOrNeumann = 1 #Indica que o m\u00e9todo utilizado ser\u00e1 de Neumann nas quatro fronteiras\n",
      "bSparseOrNot = 0 #Indica que o m\u00e9todo n\u00e3o ser\u00e1 esparso (n\u00e3o tem m\u00e9todo esparso para Neumann ainda)\n",
      "nMatrixOrder = SIZE #Indica ordem da matriz"
     ],
     "language": "python",
     "metadata": {},
     "outputs": [],
     "prompt_number": 10
    },
    {
     "cell_type": "code",
     "collapsed": false,
     "input": [
      "cMesh.conditions(dBoundaryConditions,\n",
      "                 dNonHomogeneity,\n",
      "                 bDirichletOrNeumann,\n",
      "                 bSparseOrNot,\n",
      "                 nMatrixOrder);"
     ],
     "language": "python",
     "metadata": {},
     "outputs": [],
     "prompt_number": 11
    },
    {
     "cell_type": "heading",
     "level": 4,
     "metadata": {},
     "source": [
      "Resolver Equa\u00e7\u00e3o e salvar resultado"
     ]
    },
    {
     "cell_type": "code",
     "collapsed": false,
     "input": [
      "dSolution = np.ndarray(shape=(SIZE,SIZE), dtype=np.float64);\n",
      "cMesh.poissonSolver();\n",
      "cMesh.saveSolution(dSolution);"
     ],
     "language": "python",
     "metadata": {},
     "outputs": [],
     "prompt_number": 12
    },
    {
     "cell_type": "heading",
     "level": 4,
     "metadata": {},
     "source": [
      "Resultado"
     ]
    },
    {
     "cell_type": "code",
     "collapsed": false,
     "input": [
      "print dSolution"
     ],
     "language": "python",
     "metadata": {},
     "outputs": [
      {
       "output_type": "stream",
       "stream": "stdout",
       "text": [
        "[[ 0.02604167  0.02604167  0.04557292  0.0546875  -0.01692708]\n",
        " [ 0.02604167 -0.03645833 -0.06770833 -0.08333333 -0.08854167]\n",
        " [ 0.04557292 -0.06770833 -0.13411458 -0.16927083 -0.18098958]\n",
        " [ 0.0546875  -0.08333333 -0.16927083 -0.21614583 -0.23177083]\n",
        " [-0.01692708 -0.08854167 -0.18098958 -0.23177083 -0.23177083]]\n"
       ]
      }
     ],
     "prompt_number": 13
    },
    {
     "cell_type": "code",
     "collapsed": false,
     "input": [
      "figure()\n",
      "ax = subplot(111, projection='3d')\n",
      "\n",
      "x = linspace(0,1,SIZE)\n",
      "xx, yy = meshgrid(x,x)\n",
      "zz = dSolution\n",
      "\n",
      "ax.plot_surface(xx, yy, zz,\n",
      "                rstride=1,\n",
      "                cstride=1,\n",
      "                cmap=cm.binary,\n",
      "                linewidth=0.2)\n",
      "\n",
      "ax.set_xlabel(r'$x$')\n",
      "ax.set_ylabel('$y$')\n",
      "ax.set_zlabel('$z$')\n",
      "title(r'The function $\\nabla^2u = 1$ with null boundary Neumann conditions')\n",
      "savefig('plot3d.pdf')\n",
      "\n",
      "show()"
     ],
     "language": "python",
     "metadata": {},
     "outputs": [
      {
       "output_type": "display_data",
       "png": "[encoded data removed]"
      }
     ],
     "prompt_number": 14
    }
   ],
   "metadata": {}
  }
 ]
}