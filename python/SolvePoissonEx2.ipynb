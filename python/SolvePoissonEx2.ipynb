{
 "metadata": {
  "name": "SolvePoissonEx2"
 },
 "nbformat": 3,
 "nbformat_minor": 0,
 "worksheets": [
  {
   "cells": [
    {
     "cell_type": "heading",
     "level": 1,
     "metadata": {},
     "source": [
      "C\u00f3digo para Resolver Poisson com condi\u00e7\u00f5es de Neumann"
     ]
    },
    {
     "cell_type": "markdown",
     "metadata": {},
     "source": [
      "A id\u00e9ia \u00e9 simples, resolver a equa\u00e7\u00e3o de Poisson, $\\nabla^2u=f(x,y)$ com condi\u00e7\u00f5es de Neumann, $\\frac{\\partial u}{\\partial n}=g(x)$ ou $g(y)$."
     ]
    },
    {
     "cell_type": "code",
     "collapsed": false,
     "input": [
      "import sys\n",
      "sys.path.append(\"/home/ataias/workspace/ff/build/src/\") #localiza\u00e7\u00e3o das bibliotecas\n",
      "from libpoisson import Poisson #biblioteca com os c\u00f3digos para resolver a equa\u00e7\u00e3o de Poisson\n",
      "import scipy\n",
      "import pylab\n",
      "import numpy as np\n",
      "from mpl_toolkits.mplot3d import Axes3D #Para plotar gr\u00e1ficos 3D"
     ],
     "language": "python",
     "metadata": {},
     "outputs": [],
     "prompt_number": 98
    },
    {
     "cell_type": "heading",
     "level": 4,
     "metadata": {},
     "source": [
      "M\u00e9todo para condi\u00e7\u00f5es Iniciais"
     ]
    },
    {
     "cell_type": "code",
     "collapsed": false,
     "input": [
      "help(Poisson.conditions)"
     ],
     "language": "python",
     "metadata": {},
     "outputs": [
      {
       "output_type": "stream",
       "stream": "stdout",
       "text": [
        "Help on method conditions:\n",
        "\n",
        "conditions(...) unbound libpoisson.Poisson method\n",
        "    conditions( (Poisson)arg1, (object)dBoundaryConditions, (object)dNonHomogeneity, (bool)bDirichletOrNeumann, (bool)bSparseOrNot, (int)nMatrixOrder) -> int :\n",
        "        This function takes important values required to solve the Poisson problem on a square.\n",
        "    \n",
        "        C++ signature :\n",
        "            int conditions(Poisson {lvalue},_object*,_object*,bool,bool,int)\n",
        "\n"
       ]
      }
     ],
     "prompt_number": 99
    },
    {
     "cell_type": "heading",
     "level": 4,
     "metadata": {},
     "source": [
      "M\u00e9todo para Resolver a equa\u00e7\u00e3o"
     ]
    },
    {
     "cell_type": "code",
     "collapsed": false,
     "input": [
      "help(Poisson.poissonSolver)"
     ],
     "language": "python",
     "metadata": {},
     "outputs": [
      {
       "output_type": "stream",
       "stream": "stdout",
       "text": [
        "Help on method poissonSolver:\n",
        "\n",
        "poissonSolver(...) unbound libpoisson.Poisson method\n",
        "    poissonSolver( (Poisson)arg1) -> None :\n",
        "        Solves the Poisson problem on a square, with previous given conditions.\n",
        "    \n",
        "        C++ signature :\n",
        "            void poissonSolver(Poisson {lvalue})\n",
        "\n"
       ]
      }
     ],
     "prompt_number": 100
    },
    {
     "cell_type": "heading",
     "level": 4,
     "metadata": {},
     "source": [
      "M\u00e9todo para salvar resultado em objeto do python"
     ]
    },
    {
     "cell_type": "code",
     "collapsed": false,
     "input": [
      "help(Poisson.saveSolution)"
     ],
     "language": "python",
     "metadata": {},
     "outputs": [
      {
       "output_type": "stream",
       "stream": "stdout",
       "text": [
        "Help on method saveSolution:\n",
        "\n",
        "saveSolution(...) unbound libpoisson.Poisson method\n",
        "    saveSolution( (Poisson)arg1, (object)pyArraySolution) -> None :\n",
        "        Saves the solution of Poisson problem in pyArraySolution object.\n",
        "    \n",
        "        C++ signature :\n",
        "            void saveSolution(Poisson {lvalue},_object*)\n",
        "\n"
       ]
      }
     ],
     "prompt_number": 101
    },
    {
     "cell_type": "heading",
     "level": 2,
     "metadata": {},
     "source": [
      "Exemplo 1"
     ]
    },
    {
     "cell_type": "markdown",
     "metadata": {},
     "source": [
      "Resolveremos o problema $\\nabla^2 u=1$ com condi\u00e7\u00f5es de contorno nulas."
     ]
    },
    {
     "cell_type": "markdown",
     "metadata": {},
     "source": [
      "O m\u00e9todo Poisson.conditions tem 5 argumentos. Vamos prepar\u00e1-los e resolver o problema."
     ]
    },
    {
     "cell_type": "code",
     "collapsed": false,
     "input": [
      "cMesh = Poisson(); #Cria um objeto do tipo Poisson\n",
      "SIZE = 11;"
     ],
     "language": "python",
     "metadata": {},
     "outputs": [],
     "prompt_number": 102
    },
    {
     "cell_type": "heading",
     "level": 4,
     "metadata": {},
     "source": [
      "Condi\u00e7\u00f5es de Contorno"
     ]
    },
    {
     "cell_type": "code",
     "collapsed": false,
     "input": [
      "#dBoundaryConditions = ndarray(shape=(SIZE,SIZE), dtype=np.float64);\n",
      "dBoundaryConditions = np.array([[0 for j in range(0,SIZE)] for i in range(0,SIZE)],dtype=np.float64)"
     ],
     "language": "python",
     "metadata": {},
     "outputs": [],
     "prompt_number": 103
    },
    {
     "cell_type": "code",
     "collapsed": false,
     "input": [
      "#print dBoundaryConditions"
     ],
     "language": "python",
     "metadata": {},
     "outputs": [],
     "prompt_number": 104
    },
    {
     "cell_type": "markdown",
     "metadata": {},
     "source": [
      "Note que somente os lados s\u00e3o importantes, sem contar as quinas."
     ]
    },
    {
     "cell_type": "heading",
     "level": 4,
     "metadata": {},
     "source": [
      "Fun\u00e7\u00e3o de For\u00e7amento"
     ]
    },
    {
     "cell_type": "code",
     "collapsed": false,
     "input": [
      "dNonHomogeneity = np.array([[1 for j in range(0,SIZE)] for i in range(0,SIZE)],dtype=np.float64)"
     ],
     "language": "python",
     "metadata": {},
     "outputs": [],
     "prompt_number": 105
    },
    {
     "cell_type": "code",
     "collapsed": false,
     "input": [
      "#print dNonHomogeneity"
     ],
     "language": "python",
     "metadata": {},
     "outputs": [],
     "prompt_number": 106
    },
    {
     "cell_type": "heading",
     "level": 4,
     "metadata": {},
     "source": [
      "Defini\u00e7\u00f5es adicionais"
     ]
    },
    {
     "cell_type": "markdown",
     "metadata": {},
     "source": [
      "\u00c9 necess\u00e1rio definir alguns par\u00e2metros para se passar as condi\u00e7\u00f5es para o problema."
     ]
    },
    {
     "cell_type": "code",
     "collapsed": false,
     "input": [
      "bDirichletOrNeumann = 1 #Indica que o m\u00e9todo utilizado ser\u00e1 de Neumann nas quatro fronteiras\n",
      "bSparseOrNot = 0 #Indica que o m\u00e9todo n\u00e3o ser\u00e1 esparso (n\u00e3o tem m\u00e9todo esparso para Neumann ainda)\n",
      "nMatrixOrder = SIZE #Indica ordem da matriz"
     ],
     "language": "python",
     "metadata": {},
     "outputs": [],
     "prompt_number": 107
    },
    {
     "cell_type": "code",
     "collapsed": false,
     "input": [
      "cMesh.conditions(dBoundaryConditions,\n",
      "                 dNonHomogeneity,\n",
      "                 bDirichletOrNeumann,\n",
      "                 bSparseOrNot,\n",
      "                 nMatrixOrder);"
     ],
     "language": "python",
     "metadata": {},
     "outputs": [],
     "prompt_number": 108
    },
    {
     "cell_type": "heading",
     "level": 4,
     "metadata": {},
     "source": [
      "Resolver Equa\u00e7\u00e3o e salvar resultado"
     ]
    },
    {
     "cell_type": "code",
     "collapsed": false,
     "input": [
      "dSolution = np.ndarray(shape=(SIZE,SIZE), dtype=np.float64);\n",
      "cMesh.poissonSolver();\n",
      "cMesh.saveSolution(dSolution);"
     ],
     "language": "python",
     "metadata": {},
     "outputs": [],
     "prompt_number": 109
    },
    {
     "cell_type": "heading",
     "level": 4,
     "metadata": {},
     "source": [
      "Resultado"
     ]
    },
    {
     "cell_type": "code",
     "collapsed": false,
     "input": [
      "print dSolution"
     ],
     "language": "python",
     "metadata": {},
     "outputs": [
      {
       "output_type": "stream",
       "stream": "stdout",
       "text": [
        "[[ 0.00552374  0.00552374  0.01068855  0.01420902  0.01682004  0.01880732\n",
        "   0.02031327  0.02142075  0.02218138  0.02262715 -0.0091052 ]\n",
        " [ 0.00552374 -0.00854749 -0.01761872 -0.02420671 -0.02921734 -0.03307346\n",
        "  -0.03601193 -0.0381796  -0.03967105 -0.04054593 -0.04083756]\n",
        " [ 0.01068855 -0.01761872 -0.03840925 -0.05419977 -0.06640925 -0.07587189\n",
        "  -0.08310794 -0.08845616 -0.09214004 -0.09430228 -0.09502302]\n",
        " [ 0.01420902 -0.02420671 -0.05419977 -0.07777389 -0.096348   -0.1108969\n",
        "  -0.12209177 -0.13039707 -0.13613069 -0.13950011 -0.14062325]\n",
        " [ 0.01682004 -0.02921734 -0.06640925 -0.096348   -0.12031196 -0.13927593\n",
        "  -0.15396518 -0.16490964 -0.17248554 -0.17694422 -0.17843045]\n",
        " [ 0.01880732 -0.03307346 -0.07587189 -0.1108969  -0.13927593 -0.16192966\n",
        "  -0.1795834  -0.19279079 -0.2019576  -0.20736078 -0.20916185]\n",
        " [ 0.02031327 -0.03601193 -0.08310794 -0.12209177 -0.15396518 -0.1795834\n",
        "  -0.19964796 -0.21471251 -0.22519328 -0.23137947 -0.23344154]\n",
        " [ 0.02142075 -0.0381796  -0.08845616 -0.13039707 -0.16490964 -0.19279079\n",
        "  -0.21471251 -0.23121803 -0.24272354 -0.24952229 -0.25178854]\n",
        " [ 0.02218138 -0.03967105 -0.09214004 -0.13613069 -0.17248554 -0.2019576\n",
        "  -0.22519328 -0.24272354 -0.25496057 -0.2621976  -0.26460995]\n",
        " [ 0.02262715 -0.04054593 -0.09430228 -0.13950011 -0.17694422 -0.20736078\n",
        "  -0.23137947 -0.24952229 -0.2621976  -0.2696976  -0.2721976 ]\n",
        " [-0.0091052  -0.04083756 -0.09502302 -0.14062325 -0.17843045 -0.20916185\n",
        "  -0.23344154 -0.25178854 -0.26460995 -0.2721976  -0.2721976 ]]\n"
       ]
      }
     ],
     "prompt_number": 110
    },
    {
     "cell_type": "markdown",
     "metadata": {},
     "source": [
      "Como saber se o resultado est\u00e1 certo? Basta aplicar a equa\u00e7\u00e3o em todos os pontos internos e verificar o resultado."
     ]
    },
    {
     "cell_type": "code",
     "collapsed": false,
     "input": [
      "dError = np.array([[0 for j in range(0,SIZE)] for i in range(0,SIZE)],dtype=np.float64)\n",
      "dDeltaX = 1.0/(SIZE-1)\n",
      "dDeltaX2 = 1.0/(SIZE-1)**2\n",
      "for i in range(0,SIZE):\n",
      "    for j in range(0,SIZE):\n",
      "        #QUINAS\n",
      "        if i==0 and j==0: \n",
      "            continue;\n",
      "        if i==0 and j==SIZE-1: \n",
      "            continue;\n",
      "        if i==SIZE-1 and j==0:\n",
      "            continue;\n",
      "        if i==SIZE-1 and j==SIZE-1:\n",
      "            continue;\n",
      "        \n",
      "        \n",
      "        if i==0:        #NORTH POINT\n",
      "            dError[i,j]= -(-1.5*dSolution[i,j]+2*dSolution[i+1,j]-0.5*dSolution[i+2,j])/dDeltaX-dBoundaryConditions[i,j];\n",
      "        elif i==SIZE-1: #SOUTH POINT\n",
      "            dError[i,j]=  (-1.5*dSolution[i,j]+2*dSolution[i-1,j]-0.5*dSolution[i-2,j])/dDeltaX-dBoundaryConditions[i,j];\n",
      "        elif j==0:      #WEST POINT\n",
      "            dError[i,j]= -(-1.5*dSolution[i,j]+2*dSolution[i,j+1]-0.5*dSolution[i,j+2])/dDeltaX-dBoundaryConditions[i,j];\n",
      "        elif j==SIZE-1: #EAST POINT\n",
      "            dError[i,j]=  (-1.5*dSolution[i,j]+2*dSolution[i,j-1]-0.5*dSolution[i,j-2])/dDeltaX-dBoundaryConditions[i,j];\n",
      "        else:\n",
      "            dError[i,j] = (dSolution[i-1,j]+dSolution[i+1,j]+\\\n",
      "            dSolution[i,j-1]+dSolution[i,j+1]-4*dSolution[i,j])/dDeltaX2 - dNonHomogeneity[i,j];"
     ],
     "language": "python",
     "metadata": {},
     "outputs": [],
     "prompt_number": 111
    },
    {
     "cell_type": "code",
     "collapsed": false,
     "input": [
      "print dError[0,1]\n",
      "print dSolution[0,1]\n",
      "print dSolution[1,1]\n",
      "print dSolution[2,1]"
     ],
     "language": "python",
     "metadata": {},
     "outputs": [
      {
       "output_type": "stream",
       "stream": "stdout",
       "text": [
        "0.165712341364\n",
        "0.00552374471213\n",
        "-0.00854748942427\n",
        "-0.0176187235607\n"
       ]
      }
     ],
     "prompt_number": 112
    },
    {
     "cell_type": "code",
     "collapsed": false,
     "input": [
      "#print dError\n",
      "dError."
     ],
     "language": "python",
     "metadata": {},
     "outputs": [
      {
       "output_type": "stream",
       "stream": "stdout",
       "text": [
        "[[  0.00000000e+00   1.65712341e-01   3.20656463e-01   4.26270505e-01\n",
        "    5.04601251e-01   5.64219580e-01   6.09397955e-01   6.42622365e-01\n",
        "    6.65441500e-01   6.78814579e-01   0.00000000e+00]\n",
        " [  1.65712341e-01  -1.22124533e-15  -1.22124533e-15  -1.88737914e-15\n",
        "   -6.10622664e-15  -7.43849426e-15  -7.43849426e-15  -7.43849426e-15\n",
        "   -7.43849426e-15  -7.43849426e-15  -6.93889390e-17]\n",
        " [  3.20656463e-01  -1.22124533e-15  -4.66293670e-15  -7.43849426e-15\n",
        "   -1.02140518e-14  -1.02140518e-14  -1.02140518e-14  -1.02140518e-14\n",
        "   -1.02140518e-14  -1.57651669e-14   0.00000000e+00]\n",
        " [  4.26270505e-01  -3.33066907e-15  -7.43849426e-15  -1.02140518e-14\n",
        "   -1.02140518e-14  -1.02140518e-14  -1.02140518e-14  -2.13162821e-14\n",
        "   -1.02140518e-14  -2.13162821e-14   0.00000000e+00]\n",
        " [  5.04601251e-01  -3.33066907e-15  -1.02140518e-14  -1.02140518e-14\n",
        "   -1.02140518e-14  -1.02140518e-14  -2.13162821e-14  -2.13162821e-14\n",
        "   -2.13162821e-14  -2.13162821e-14   0.00000000e+00]\n",
        " [  5.64219580e-01  -3.33066907e-15  -1.02140518e-14  -1.02140518e-14\n",
        "   -2.13162821e-14  -2.13162821e-14  -3.24185123e-14  -2.13162821e-14\n",
        "   -3.24185123e-14  -3.24185123e-14   1.38777878e-16]\n",
        " [  6.09397955e-01  -7.43849426e-15  -1.02140518e-14  -1.57651669e-14\n",
        "   -2.13162821e-14  -2.13162821e-14  -2.13162821e-14  -2.13162821e-14\n",
        "   -2.13162821e-14  -3.24185123e-14   2.77555756e-16]\n",
        " [  6.42622365e-01  -1.02140518e-14  -1.02140518e-14  -2.13162821e-14\n",
        "   -2.13162821e-14  -4.35207426e-14  -4.35207426e-14  -3.24185123e-14\n",
        "   -4.35207426e-14  -4.35207426e-14   0.00000000e+00]\n",
        " [  6.65441500e-01  -4.66293670e-15  -1.02140518e-14  -1.02140518e-14\n",
        "   -1.02140518e-14  -2.13162821e-14  -2.13162821e-14  -3.24185123e-14\n",
        "   -4.35207426e-14  -2.13162821e-14  -2.77555756e-16]\n",
        " [  6.78814579e-01  -4.66293670e-15  -1.57651669e-14  -2.13162821e-14\n",
        "   -3.24185123e-14  -2.13162821e-14  -2.13162821e-14  -4.35207426e-14\n",
        "   -4.35207426e-14  -2.13162821e-14  -2.77555756e-16]\n",
        " [  0.00000000e+00  -6.93889390e-17   0.00000000e+00   0.00000000e+00\n",
        "    1.38777878e-16  -1.38777878e-16   0.00000000e+00   1.38777878e-16\n",
        "   -2.77555756e-16   0.00000000e+00   0.00000000e+00]]\n"
       ]
      }
     ],
     "prompt_number": 113
    },
    {
     "cell_type": "code",
     "collapsed": false,
     "input": [
      "x0 = array([[0 for j in range(0,5)] for i in range(0,2)],dtype=np.float64)"
     ],
     "language": "python",
     "metadata": {},
     "outputs": [],
     "prompt_number": 114
    },
    {
     "cell_type": "code",
     "collapsed": false,
     "input": [
      "x0[0,0]=dDeltaX2;\n",
      "x0[1,0]=dError[2,2];"
     ],
     "language": "python",
     "metadata": {},
     "outputs": [],
     "prompt_number": 115
    },
    {
     "cell_type": "code",
     "collapsed": false,
     "input": [
      "figure()\n",
      "ax = subplot(111, projection='3d')\n",
      "\n",
      "x = linspace(0,1,SIZE)\n",
      "xx, yy = meshgrid(x,x)\n",
      "zz = dSolution\n",
      "\n",
      "ax.plot_surface(xx, yy, zz,\n",
      "                rstride=1,\n",
      "                cstride=1,\n",
      "                cmap=cm.binary,\n",
      "                linewidth=0.2)\n",
      "\n",
      "ax.set_xlabel(r'$x$')\n",
      "ax.set_ylabel('$y$')\n",
      "ax.set_zlabel('$z$')\n",
      "title(r'The function $\\nabla^2u = 1$ with null boundary Neumann conditions')\n",
      "savefig('plot3d.pdf')\n",
      "\n",
      "show()"
     ],
     "language": "python",
     "metadata": {},
     "outputs": [
      {
       "output_type": "display_data",
       "png": "[encoded data removed]"
      }
     ],
     "prompt_number": 116
    }
   ],
   "metadata": {}
  }
 ]
}