{
 "metadata": {
  "name": "NavierStokes"
 },
 "nbformat": 3,
 "nbformat_minor": 0,
 "worksheets": [
  {
   "cells": [
    {
     "cell_type": "heading",
     "level": 1,
     "metadata": {},
     "source": [
      "Solu\u00e7\u00e3o Num\u00e9rica de Navier Stokes"
     ]
    },
    {
     "cell_type": "heading",
     "level": 5,
     "metadata": {},
     "source": [
      "Bibliotecas do Python Utilizadas"
     ]
    },
    {
     "cell_type": "code",
     "collapsed": false,
     "input": [
      "import numpy\n",
      "from scipy import weave\n",
      "from scipy.weave import converters\n",
      "import sys, time"
     ],
     "language": "python",
     "metadata": {},
     "outputs": [],
     "prompt_number": 1
    },
    {
     "cell_type": "heading",
     "level": 5,
     "metadata": {},
     "source": [
      "Bibliotecas Pr\u00f3prias Utilizadas"
     ]
    },
    {
     "cell_type": "markdown",
     "metadata": {},
     "source": [
      "Quer-se resolver a seguinte equa\u00e7\u00e3o: \n",
      "\n",
      "$$\\rho\\left( \\frac{\\partial \\textbf{v}}{\\partial t}+\\textbf{v}\\cdot\\nabla\\textbf{v}\\right)=-\\nabla p+\\mu\\nabla^2\\textbf{v}+\\textbf{f}$$\n",
      "\n",
      "$$\\nabla\\cdot \\textbf{v}=0$$"
     ]
    },
    {
     "cell_type": "heading",
     "level": 2,
     "metadata": {},
     "source": [
      "1\u00ba Passo"
     ]
    },
    {
     "cell_type": "markdown",
     "metadata": {},
     "source": [
      "Desconsiderando $\\nabla p$ por agora, e notando que a parte da diferente \u00e9 avaliada no tempo atual, n\u00e3o no futuro, tem-se:"
     ]
    },
    {
     "cell_type": "markdown",
     "metadata": {},
     "source": [
      "$${\\\\bf{v}}_{ij}^{*s} = (u_{i+1j}+u_{i-1j}+u_{ij+1}+u_{ij-1},v_{i+1j}+v_{i-1j}+v_{ij+1}+v_{ij-1})$$"
     ]
    },
    {
     "cell_type": "markdown",
     "metadata": {},
     "source": [
      "$${\\\\bf{v}}_{ij}^{*t}=\\frac{1}{4}(u_{ij}+u_{i-1j}+u_{i-1j-1}+u_{ij+1},v_{ij}+v_{i-1j}+v_{i-1j-1}+v_{ij+1})$$\n",
      "\n",
      "$$u_{ij}^{*}=\\left[\\frac{\\mu}{\\rho}\\left(\\frac{u_{ij}^s-4u_{ij}}{\\Delta x^2}\\right)+\\frac{f_{x,ij}}{\\rho}-u_{ij}\\frac{u_{i+1j}-u_{i-1j}}{2\\Delta x}-v_{ij}^t\\frac{u_{ij+1}-u_{ij-1}}{2\\Delta x}\\right]\\Delta t + u_{ij}$$\n",
      "\n",
      "$$v_{ij}^{*}=\\left[\\frac{\\mu}{\\rho}\\left(\\frac{v_{ij}^s-4v_{ij}}{\\Delta x^2}\\right)+\\frac{f_{y,ij}}{\\rho}-u_{ij}^t\\frac{v_{i+1j}-v_{i-1j}}{2\\Delta x}-v_{ij}\\frac{v_{ij+1}-v_{ij-1}}{2\\Delta x}\\right]\\Delta t + v_{ij}$$"
     ]
    },
    {
     "cell_type": "markdown",
     "metadata": {},
     "source": [
      "Com isto, tem-se $${\\\\bf{v}}^{*}=(u^{\\*},v^{\\*})$$"
     ]
    },
    {
     "cell_type": "heading",
     "level": 2,
     "metadata": {},
     "source": [
      "2\u00ba Passo"
     ]
    },
    {
     "cell_type": "heading",
     "level": 3,
     "metadata": {},
     "source": [
      "Solu\u00e7\u00e3o de Poisson com Condi\u00e7\u00f5es de Neumann"
     ]
    },
    {
     "cell_type": "markdown",
     "metadata": {},
     "source": [
      " Tirando o divergente das equa\u00e7\u00f5es vetoriais, tem-se a seguinte equa\u00e7\u00e3o:"
     ]
    },
    {
     "cell_type": "markdown",
     "metadata": {},
     "source": [
      "$$\\nabla^2 p=\\frac{\\rho}{\\Delta t}\\nabla\\cdot {\\\\bf{v}}^{*}=\\frac{\\rho}{\\Delta t} \\left( \\frac{\\partial u^{*1}}{\\partial x}+\\frac{\\partial v^{*1}}{\\partial y}\\right)$$"
     ]
    },
    {
     "cell_type": "markdown",
     "metadata": {},
     "source": [
      "Dado ter-se um sistema resolvendo a equa\u00e7\u00e3o de poisson, basta-se calcular o termo da direita e colocar como n\u00e3o-homogeneidade."
     ]
    },
    {
     "cell_type": "markdown",
     "metadata": {},
     "source": [
      "$$f_{ij}=\\frac{\\rho}{\\Delta t}\\left( \\frac{u_{i+1j}^*-u_{i-1j}^*}{2\\Delta x}+\\frac{v_{ij+1}^*-v_{ij-1}^*}{2\\Delta x}\\right)$$"
     ]
    },
    {
     "cell_type": "markdown",
     "metadata": {},
     "source": [
      "As condi\u00e7\u00f5es de contorno s\u00e3o todas de Neumann. Para pontos internos \u00e0 malha, tem-se:"
     ]
    },
    {
     "cell_type": "markdown",
     "metadata": {},
     "source": [
      "$$p_{ij}=\\frac{1}{4}[(p_{i+1j}+p_{i-1j}+p_{ij+1}+p_{ij-1})-\\Delta x^2 f_{ij}]$$"
     ]
    },
    {
     "cell_type": "markdown",
     "metadata": {},
     "source": [
      "Para pontos nas fronteiras, essa equa\u00e7\u00e3o muda. Os superescritos \\textbf{w}, \\textbf{e}, \\textbf{n} e \\textbf{s} ser\u00e3o usados para indicar as fronteiras \\textit{West}, \\textit{East}, \\textit{North} e \\textit{South}. A matrix $g$ tem nas suas fronteiras as condi\u00e7\u00f5es de fronteira para o problema, que no caso s\u00e3o os valores do fluxo em cada fronteira, tem-se uma matriz com valores de fluxo e o interior dela n\u00e3o \u00e9 utilizado. Os \u00edndices $i$ e $j$ correspondem aos eixos x e y aqui, respectivamente."
     ]
    },
    {
     "cell_type": "markdown",
     "metadata": {},
     "source": [
      "As equa\u00e7\u00f5es com derivadas unidirecionais de segunda ordem s\u00e3o as seguintes:"
     ]
    },
    {
     "cell_type": "markdown",
     "metadata": {},
     "source": [
      "$$p_{0j}^{w}=\\frac{1}{4}[(2p_{1j}+2\\Delta x g_{0j}+p_{0j+1}+p_{0j-1})-\\Delta x^2 f_{0j}]$$\n",
      "$$p_{N-1j}^{e}=\\frac{1}{4}[(2p_{N-2j}+2\\Delta x g_{N-1j}+p_{N-1j+1}+p_{N-1j-1})-\\Delta x^2 f_{N-1j}]$$\n",
      "$$p_{i0}^{n}=\\frac{1}{4}[(p_{i+1\\,0}+p_{i-1\\,0}+2p_{i1}+2\\Delta x g_{i0})-\\Delta x^2 f_{i0}]$$\n",
      "$$p_{iN-1}^{s}=\\frac{1}{4}[(p_{i+1N-1}+p_{i-1N-1}+2p_{iN-2}-2\\Delta x g_{iN-1})-\\Delta x^2 f_{iN-1}]$$"
     ]
    },
    {
     "cell_type": "markdown",
     "metadata": {},
     "source": [
      "As equa\u00e7\u00f5es com derivadas de segunda ordem para fronteira fict\u00edcia s\u00e3o as seguintes:"
     ]
    },
    {
     "cell_type": "code",
     "collapsed": false,
     "input": [],
     "language": "python",
     "metadata": {},
     "outputs": []
    },
    {
     "cell_type": "heading",
     "level": 2,
     "metadata": {},
     "source": [
      "3\u00ba Passo"
     ]
    },
    {
     "cell_type": "markdown",
     "metadata": {},
     "source": [
      "Finalmente, tem-se:"
     ]
    },
    {
     "cell_type": "markdown",
     "metadata": {},
     "source": [
      "$$\\frac{{\\\\bf{v}}^{n+1}-\\textbf{v}^*}{\\Delta t}=-\\frac{1}{\\rho}\\nabla p$$"
     ]
    },
    {
     "cell_type": "markdown",
     "metadata": {},
     "source": [
      "Expandindo para as equa\u00e7\u00f5es escalares, tem-se:"
     ]
    },
    {
     "cell_type": "markdown",
     "metadata": {},
     "source": [
      "$$u^{n+1}=u^{*}-\\frac{\\Delta t}{\\rho}\\frac{\\partial p}{\\partial x}$$\n",
      "\n",
      "$$v^{n+1}=v^{*}-\\frac{\\Delta t}{\\rho}\\frac{\\partial p}{\\partial y}$$"
     ]
    },
    {
     "cell_type": "markdown",
     "metadata": {},
     "source": [
      "Basta discretizar os termos das derivadas parciais agora:"
     ]
    },
    {
     "cell_type": "markdown",
     "metadata": {},
     "source": [
      "$$p_{x,ij}=\\frac{p_{i+1j}-p_{i-1j}}{2\\Delta x}$$\n",
      "\n",
      "$$p_{y,ij}=\\frac{p_{ij+1}-p_{ij+1}}{2\\Delta x}$$"
     ]
    },
    {
     "cell_type": "markdown",
     "metadata": {},
     "source": [
      "E finalmente tem-se a solu\u00e7\u00e3o para o tempo $n+1$ a partir do tempo passado $n$:"
     ]
    },
    {
     "cell_type": "markdown",
     "metadata": {},
     "source": [
      "$$u^{n+1}=u^*-\\frac{\\Delta t}{\\rho}p_x$$\n",
      "\n",
      "$$v^{n+1}=v^*-\\frac{\\Delta t}{\\rho}p_y$$"
     ]
    },
    {
     "cell_type": "markdown",
     "metadata": {},
     "source": [
      "Cada uma das var\u00edaveis acima \u00e9 uma matriz."
     ]
    }
   ],
   "metadata": {}
  }
 ]
}